{
  "nbformat": 4,
  "nbformat_minor": 0,
  "metadata": {
    "colab": {
      "name": "Aula_02_Codelab_1.ipynb",
      "provenance": [],
      "collapsed_sections": [],
      "include_colab_link": true
    },
    "kernelspec": {
      "name": "python3",
      "display_name": "Python 3"
    },
    "language_info": {
      "name": "python"
    }
  },
  "cells": [
    {
      "cell_type": "markdown",
      "metadata": {
        "id": "view-in-github",
        "colab_type": "text"
      },
      "source": [
        "<a href=\"https://colab.research.google.com/github/Bianca-22/Blue_T3C6-mod1/blob/main/Aula_02_Codelab_1.ipynb\" target=\"_parent\"><img src=\"https://colab.research.google.com/assets/colab-badge.svg\" alt=\"Open In Colab\"/></a>"
      ]
    },
    {
      "cell_type": "markdown",
      "metadata": {
        "id": "n_igYcmdk6U9"
      },
      "source": [
        "# **Exercícios para treinar:**"
      ]
    },
    {
      "cell_type": "markdown",
      "metadata": {
        "id": "rRyZR6ZAlEHU"
      },
      "source": [
        "1. **Frase na tela** - Implemente um programa que escreve na tela a frase \"O primeiro programa a gente nunca esquece!\".\n",
        "\n",
        "2. **Etiqueta** - Elabore um programa que escreve seu nome completo na primeira linha, seu endereço na segunda e o CEP e telefone na terceira.\n",
        "\n",
        "3. **Letra de música** - Faça um programa que mostre na tela uma letra de música que você gosta (proibido letras do Justin Bieber).\n",
        "\n",
        "4. **Tabela de notas** - Você foi contratado ou contratada por uma escola pra fazer o sistema de boletim dos alunos. Como primeiro passo, escreva um programa que produza a seguinte saída:\n",
        "```\n",
        "ALUNO (A)  NOTA\n",
        "=========  ====\n",
        "ALINE      9.0\n",
        "MÁRIO      DEZ\n",
        "SÉRGIO     4.5\n",
        "SHIRLEY    7.0\n",
        "```\n",
        "\n",
        "5. **Menu** - Elabore um programa que mostre o seguinte menu na tela:\n",
        "```\n",
        "Cadastro de Clientes\n",
        "0 - Fim\n",
        "1 - Inclui\n",
        "2 - Altera\n",
        "3 - Exclui\n",
        "4 - Consulta\n",
        "Digite uma opção: \n",
        "```\n",
        "Ao digitar um valor para a opção, o programa exibe qual opção foi escolhida.\n",
        "```\n",
        "Você escolheu a opção '0'.\n",
        "```\n",
        "\n",
        "6. **Calculadora de Dano** - Escreva um programa que receba dois valores digitados pelo usuário:\n",
        "  - Quantidade de vida de um monstro (entre 10 e 50);\n",
        "  - Valor do ataque do jogador por turno (entre 5 e 10);\n",
        "  - Baseado nos valores digitados, exiba a quantidade de turnos que o jogador irá demorar para conseguir derrotar o monstro.\n",
        "  - ```\n",
        "    O jogador irá derrotar o monstro em 8 turnos.\n",
        "    ```"
      ]
    },
    {
      "cell_type": "markdown",
      "metadata": {
        "id": "HqgnPaCGqMPB"
      },
      "source": [
        "# Exercícios"
      ]
    },
    {
      "cell_type": "code",
      "metadata": {
        "colab": {
          "base_uri": "https://localhost:8080/"
        },
        "id": "nq6vp8ZCSy8B",
        "outputId": "09af7163-5aae-4d58-e0fe-67e974faafe2"
      },
      "source": [
        "#Ex: 04\n",
        "print(\"ALUNO (A)  NOTA \\n=========  ==== \\n ALINE      9.0 \\n MÁRIO      DEZ\\n SÉRGIO     4.5 \\n SHIRLEY    7.0\\n\")"
      ],
      "execution_count": null,
      "outputs": [
        {
          "output_type": "stream",
          "text": [
            "ALUNO (A)  NOTA \n",
            "=========  ==== \n",
            " ALINE      9.0 \n",
            " MÁRIO      DEZ\n",
            " SÉRGIO     4.5 \n",
            " SHIRLEY    7.0\n",
            "\n"
          ],
          "name": "stdout"
        }
      ]
    },
    {
      "cell_type": "code",
      "metadata": {
        "colab": {
          "base_uri": "https://localhost:8080/"
        },
        "id": "xQ931wCGHsk7",
        "outputId": "b751d90a-2970-4ae3-ec36-c8e5c554151a"
      },
      "source": [
        "#Ex: 05\n",
        "print('Cadastro de Clientes\\n0 - Fim\\n1 - Inclui\\n2 - Altera\\n3 - Exclui\\n4 - Consulta')\n",
        "num = int(input('Digite uma opção:'))\n",
        "print(f'Você escolheu a opção {num}')"
      ],
      "execution_count": null,
      "outputs": [
        {
          "output_type": "stream",
          "text": [
            "Cadastro de Clientes\n",
            "0 - Fim\n",
            "1 - Inclui\n",
            "2 - Altera\n",
            "3 - Exclui\n",
            "4 - Consulta\n",
            "Digite uma opção:4\n",
            "Você escolheu a opção 4\n"
          ],
          "name": "stdout"
        }
      ]
    },
    {
      "cell_type": "code",
      "metadata": {
        "colab": {
          "base_uri": "https://localhost:8080/"
        },
        "id": "6Eqse0meOfUi",
        "outputId": "90fa6235-2ad7-4dfc-f369-1598fe668643"
      },
      "source": [
        "#Ex: 06\n",
        "vida_mostro = int(input('Quantidade de vida de um monstro (entre 10 e 50): '))\n",
        "ataque = int(input('Valor do ataque do jogador por turno (entre 5 e 10): '))\n",
        "turnos = vida_mostro//ataque\n",
        "print(f'O jogador irá derrotar o monstro em {turnos} turnos.')"
      ],
      "execution_count": null,
      "outputs": [
        {
          "output_type": "stream",
          "text": [
            "Quantidade de vida de um monstro (entre 10 e 50): 10\n",
            "Valor do ataque do jogador por turno (entre 5 e 10): 5\n",
            "O jogador irá derrotar o monstro em 2 turnos.\n"
          ],
          "name": "stdout"
        }
      ]
    },
    {
      "cell_type": "markdown",
      "metadata": {
        "id": "U-ltrv0jqPBq"
      },
      "source": [
        "## #01 - E os 10% do garçom?**\n",
        "\n",
        "- Defina uma variável para o valor de uma refeição que custou R$ 42,54;\n",
        "\n",
        "- Defina uma variável para o valor da taxa de serviço que é de 10%;\n",
        "\n",
        "- Defina uma variável que calcula o valor total da conta e exiba-o no console com essa formatação: R$ XXXX.XX."
      ]
    },
    {
      "cell_type": "code",
      "metadata": {
        "id": "jbcSv4NFkB1C",
        "colab": {
          "base_uri": "https://localhost:8080/"
        },
        "outputId": "03a7fc56-6227-4260-e09c-f2b2008033e4"
      },
      "source": [
        "refeicao = 42.54\n",
        "taxa = 1.10\n",
        "total = refeicao * taxa\n",
        "print(f'Sua refeição custou R${refeicao} e a taxa de serviço é de 10%\\nO total à pagar é de R${total:.2f}.')"
      ],
      "execution_count": null,
      "outputs": [
        {
          "output_type": "stream",
          "text": [
            "Sua refeição custou R$42.54 e a taxa de serviço é de 10%\n",
            "O total à pagar é de R$46.79.\n"
          ],
          "name": "stdout"
        }
      ]
    },
    {
      "cell_type": "markdown",
      "metadata": {
        "id": "JR3-KgsTqR41"
      },
      "source": [
        "## #02 - Qual o valor do troco?\n",
        "\n",
        "*   Defina uma variável para o valor de uma compra que custou R$100,98;\n",
        "\n",
        "*   Defina uma variável para o valor que o cliente pagou R$150,00;\n",
        "\n",
        "*   Defina uma variável que calcula o valor do troco e exiba-o no console com o valor final arredondado."
      ]
    },
    {
      "cell_type": "code",
      "metadata": {
        "id": "hBf3kE_pksAI",
        "colab": {
          "base_uri": "https://localhost:8080/"
        },
        "outputId": "472c8abe-45b4-4744-8ca6-45c07c1dbd0d"
      },
      "source": [
        "compra = 100.98\n",
        "pagou = 150\n",
        "troco = pagou % compra\n",
        "print(f'O seu troco é de R${troco:.2f}')"
      ],
      "execution_count": null,
      "outputs": [
        {
          "output_type": "stream",
          "text": [
            "O seu troco é de R$49.02\n"
          ],
          "name": "stdout"
        }
      ]
    },
    {
      "cell_type": "markdown",
      "metadata": {
        "id": "2Uu84Uqtkunt"
      },
      "source": [
        "## #03 - Você está na flor da idade?\n",
        "\n",
        "*  Defina uma variável para o valor do ano do nascimento;\n",
        "*  Defina uma variável para o valor do ano atual;\n",
        "*  Defina uma variável que calcula o valor final da idade da pessoa;\n",
        "*  Exiba uma mensagem final dizendo a idade da pessoa e a mensagem \"Você está na flor da idade\"."
      ]
    },
    {
      "cell_type": "code",
      "metadata": {
        "id": "kyXxJV3nk14Z",
        "colab": {
          "base_uri": "https://localhost:8080/"
        },
        "outputId": "fc1522b0-0aa0-442e-b1b3-eb47dc79a608"
      },
      "source": [
        "nasc = int(input('Em que ano você nasceu? '))\n",
        "ano_atual = 2021\n",
        "idade = ano_atual % nasc\n",
        "print(f'Você está com {idade} anos e você está na flor da idade')"
      ],
      "execution_count": null,
      "outputs": [
        {
          "output_type": "stream",
          "text": [
            "Em que ano você nasceu? 2001\n",
            "Você está com 20 anos e você está na flor da idade\n"
          ],
          "name": "stdout"
        }
      ]
    },
    {
      "cell_type": "markdown",
      "metadata": {
        "id": "w1T7s2q0p-pt"
      },
      "source": [
        "# Mini projetos"
      ]
    },
    {
      "cell_type": "markdown",
      "metadata": {
        "id": "meUw7PTwqC-Y"
      },
      "source": [
        "## #01 - Conversor de moedas\n",
        "\n",
        "Crie um programa que solicite um um valor em real ao usuário e converta esse valor, para:\n",
        "\n",
        "- DOLAR,\n",
        "- EURO,\n",
        "- LIBRA ESTERLINA,\n",
        "- DÓLAR CANADENSE,\n",
        "- PESO ARGENTINO,\n",
        "- PESO CHILENO.\n",
        "\n",
        "Para esse exercício você precisará realizar uma pesquisa para saber a cotação de cada moeda em real. Mostrar o resultado no formato $ XXXX.XX"
      ]
    },
    {
      "cell_type": "code",
      "metadata": {
        "id": "q481snSClrXe",
        "colab": {
          "base_uri": "https://localhost:8080/"
        },
        "outputId": "a6391f4c-3f77-4e9b-83ab-0c9a69a0b7f3"
      },
      "source": [
        "#01\n",
        "real = float(input('Digite o valor em real: R$'))\n",
        "dolar = 5.6\n",
        "a = real / dolar\n",
        "print(f'O valor convertido para dolar é de ${a:.2f}')\n",
        "\n",
        "euro = 6.17\n",
        "b = real / euro\n",
        "print(f'O valor convertido para euro é de €{b:.2f}')\n",
        "\n",
        "libra = 7.14\n",
        "c = real / libra\n",
        "print(f'O valor convertido para libra esterlina é de £{c:.2f}')\n",
        "\n",
        "dolar_canadense = 4.18\n",
        "d = real / dolar_canadense\n",
        "print(f'O valor convertido para dolar canadense é de C${d:.2f}')\n",
        "\n",
        "peso_argentino = 18.77\n",
        "e = real / peso_argentino\n",
        "print(f'O valor convertido para peso argentino é de ${e:.2f}')\n",
        "\n",
        "peso_chileno = 142.18\n",
        "f = real / peso_chileno\n",
        "print(f'O valor convertido para peso chileno é de ${f:.2f}')"
      ],
      "execution_count": null,
      "outputs": [
        {
          "output_type": "stream",
          "text": [
            "Digite o valor em real: R$46\n",
            "O valor convertido para dolar é de $8.21\n",
            "O valor convertido para euro é de €7.46\n",
            "O valor convertido para libra esterlina é de £6.44\n",
            "O valor convertido para dolar canadense é de C$11.00\n",
            "O valor convertido para peso argentino é de $2.45\n",
            "O valor convertido para peso chileno é de $0.32\n"
          ],
          "name": "stdout"
        }
      ]
    },
    {
      "cell_type": "markdown",
      "metadata": {
        "id": "KK9PIcJ4qIF9"
      },
      "source": [
        "## #02 - Calculadora de aumento de aluguel\n",
        "\n",
        "Vamos construir um programa que irá calcular o aumento anual do seu aluguel em duas partes:\n",
        "\n",
        "### Parte 1\n",
        "A sua calculadora vai receber o `valor do aluguel` e calcular o aumento baseado no `IGPM de 31%`. A calculadora deve apresentar o aluguel reajustado no formato `R$ XXXX.XX`\n",
        "\n",
        "**Exemplo:**\n",
        "```\n",
        "Valor do aluguel = 1000\n",
        "Valor do aluguel reajustado = R$ 1310,00"
      ]
    },
    {
      "cell_type": "code",
      "metadata": {
        "id": "VdjHa9Csl0Lg"
      },
      "source": [
        "#Parte 1\n",
        "aluguel =float(input('Informe o seu aluguel: '))\n",
        "igpm = 1.31\n",
        "reajuste = aluguel * igpm\n",
        "print(f'Valor do aluguel reajustado é de R${reajuste:.2f}')"
      ],
      "execution_count": null,
      "outputs": []
    },
    {
      "cell_type": "markdown",
      "metadata": {
        "id": "lKTwnuNMl8rP"
      },
      "source": [
        "### Parte 2\n",
        "Agora, altere sua calculadora para receber além do `valor do aluguel`, o percentual do reajuste no formato `XX%`.  \n",
        "\n",
        "**Dica:** Descubra uma forma de transformar o percentual recebido em um número para efetuar o cálculo.\n",
        "\n",
        "**Exemplo:**\n",
        "```\n",
        "Valor do aluguel = 1000\n",
        "Percentual do reajuste = 31%\n",
        "Valor do aluguel reajustado = R% 1310,00\n",
        "```"
      ]
    },
    {
      "cell_type": "code",
      "metadata": {
        "id": "aw2Zk_9KmA85"
      },
      "source": [
        "#Parte 2\n",
        "valor_aluguel = float(input(\"Valor do aluguel: \"))\n",
        "percentual_reajuste = input(\"Percentual do reajuste: \")\n",
        "\n",
        "percentual_reajuste_decimal = (float(percentual_reajuste.replace(\"%\", \"\")) / 100) + 1\n",
        "valor_aluguel_reajustado = valor_aluguel * percentual_reajuste_decimal\n",
        "\n",
        "print(f\"R$ {valor_aluguel_reajustado:.2f}\")"
      ],
      "execution_count": null,
      "outputs": []
    }
  ]
}