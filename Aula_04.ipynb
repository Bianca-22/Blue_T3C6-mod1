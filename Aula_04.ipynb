{
  "nbformat": 4,
  "nbformat_minor": 0,
  "metadata": {
    "colab": {
      "name": "Exercicios_Codelab_Aula_04.ipynb",
      "provenance": [],
      "collapsed_sections": [],
      "include_colab_link": true
    },
    "kernelspec": {
      "name": "python3",
      "display_name": "Python 3"
    },
    "language_info": {
      "name": "python"
    }
  },
  "cells": [
    {
      "cell_type": "markdown",
      "metadata": {
        "id": "view-in-github",
        "colab_type": "text"
      },
      "source": [
        "<a href=\"https://colab.research.google.com/github/Bianca-22/Blue_T3C6-mod1/blob/main/Aula_04.ipynb\" target=\"_parent\"><img src=\"https://colab.research.google.com/assets/colab-badge.svg\" alt=\"Open In Colab\"/></a>"
      ]
    },
    {
      "cell_type": "markdown",
      "metadata": {
        "id": "SW-cnnj3AAlE"
      },
      "source": [
        "## Exercício 01\n",
        "\n",
        "Faça um programa que pergunte ao usuário um número e valide se o numero é par ou impar:\n",
        "\n",
        "* Crie uma variável para receber o valor, com conversão para int\n",
        "* Para um número ser par, a divisão dele por 2 tem que dar resto 0"
      ]
    },
    {
      "cell_type": "code",
      "metadata": {
        "id": "ZeuCDPZQFT9T"
      },
      "source": [
        "num = int(input('Digite um número: '))\n",
        "\n",
        "if num % 2 == 0:\n",
        "  print('É par')\n",
        "else:\n",
        "  print('É impar')"
      ],
      "execution_count": null,
      "outputs": []
    },
    {
      "cell_type": "markdown",
      "metadata": {
        "id": "jXVUBuN3DcU-"
      },
      "source": [
        "## Exercício 02\n",
        "\n",
        "> Parte 1\n",
        "\n",
        "Faça um script que peça um valor e mostre na tela se o valor é positivo ou negativo.\n",
        "\n",
        "> Parte 2\n",
        "\n",
        "Agora implemente a funcionalidade de não aceitar o número 0, no input. (esse vai além do explicado até agora)"
      ]
    },
    {
      "cell_type": "code",
      "metadata": {
        "id": "bsM4V6SeHwJr"
      },
      "source": [
        "num = float(input('Digite um número: '))\n",
        "\n",
        "if num > 0:\n",
        "  print('É positivo')\n",
        "elif num == 0:\n",
        "  print('É neutro')\n",
        "else:\n",
        "  print('É negativo')"
      ],
      "execution_count": null,
      "outputs": []
    },
    {
      "cell_type": "markdown",
      "metadata": {
        "id": "90mUizLXOKd3"
      },
      "source": [
        "## Exercício 03\n",
        "\n",
        "Faça um programa que peça dois números, imprima o maior deles ou imprima \"Numeros iguais\" se os números forem iguais."
      ]
    },
    {
      "cell_type": "code",
      "metadata": {
        "id": "7yXB2kfUVYuD"
      },
      "source": [
        "num1 = int(input('Digite um número:'))\n",
        "num2 = int(input('Digite outro número: '))\n",
        "\n",
        "if num1 > num2:\n",
        "  print(f'O maior é: {num1}')\n",
        "elif num1 == num2:\n",
        "  print(f'Números iguais')\n",
        "else:\n",
        "  print(f'O maior é: {num2}')"
      ],
      "execution_count": null,
      "outputs": []
    },
    {
      "cell_type": "markdown",
      "metadata": {
        "id": "9BATv7tsOWOI"
      },
      "source": [
        "## Exercício 04\n",
        "\n",
        "Crie um programa que verifique se uma letra digitada é \"F\" ou \"M\". Conforme a letra, escrever: F - Feminino, M - Masculino, caso escreva outra letra: Sexo Biológico Inválido."
      ]
    },
    {
      "cell_type": "code",
      "metadata": {
        "id": "pRm8kyI7Wnp4"
      },
      "source": [
        "sexo = input('Digite F/M: ').strip().upper()[0]\n",
        "\n",
        "if sexo == 'F':\n",
        "  print('Feminino')\n",
        "elif sexo == 'M':\n",
        "  print('Masculino')\n",
        "else:\n",
        "  print('Sexo Biológico Inválido')"
      ],
      "execution_count": null,
      "outputs": []
    },
    {
      "cell_type": "markdown",
      "metadata": {
        "id": "WX2j2ITtY3G5"
      },
      "source": [
        "### Exercício 05\n",
        "\n",
        "Crie um programa em Python que peça a nota do aluno, que deve ser um float entre 0.00 e 10.0\n",
        "\n",
        "* Se a nota for menor que 6.0, deve exibir a nota F.\n",
        "\n",
        "* Se a nota for de 6.0 até 7.0, deve exibir a nota D.\n",
        "\n",
        "* Se a nota for entre 7.0 e 8.0, deve exibir a nota C.\n",
        "\n",
        "* Se a nota for entre 8.0 e 9.0, deve exibir a nota B.\n",
        "\n",
        "* Por fim, se for entre 9.0 e 10.0, deve exibir um belo de um A."
      ]
    },
    {
      "cell_type": "code",
      "metadata": {
        "id": "4CjqLlFWY5Z-"
      },
      "source": [
        "nota = float(input('Digite sua nota: '))\n",
        "\n",
        "if nota < 6:\n",
        "  print('Você está com nota F')\n",
        "elif nota >= 6 and nota <= 7:\n",
        "  print('Você está com nota D')\n",
        "elif nota >= 7.1 and nota <= 8:\n",
        "  print('Você está com nota C')\n",
        "elif nota >= 8.1 and nota <= 9:\n",
        "  print('Você está com nota B')\n",
        "else:\n",
        "  print('Você está com nota A')"
      ],
      "execution_count": null,
      "outputs": []
    },
    {
      "cell_type": "markdown",
      "metadata": {
        "id": "xep4W_T-s-Ra"
      },
      "source": [
        "# *Mini Projetos*"
      ]
    },
    {
      "cell_type": "markdown",
      "metadata": {
        "id": "4YbMlSEZG7UM"
      },
      "source": [
        "## **PROJETO 01**\n",
        "\n",
        "*   Escreva um programa que receba uma string digitada pelo usuário;\n",
        "*   Caso a string seja \"medieval\", exiba no console \"espada\";\n",
        "*   Caso contrário, se a string for \"futurista\", exiba no console \"sabre de luz\";\n",
        "*   Caso contrário, exiba no console \"Tente novamente\""
      ]
    },
    {
      "cell_type": "code",
      "metadata": {
        "id": "tn9QH5pVG8Rq",
        "colab": {
          "base_uri": "https://localhost:8080/"
        },
        "outputId": "83b6b39a-5b78-4116-99bb-ca3cf2633659"
      },
      "source": [
        "# Resposta:\n",
        "usuario = input('Escolha entre Medieval e Futurista: ').lower()\n",
        "\n",
        "if usuario == 'medieval':\n",
        "  print('Espada!')\n",
        "elif usuario == 'futurista':\n",
        "  print('Sabre de Luz!')\n",
        "else:\n",
        "  print('Tente novamente')"
      ],
      "execution_count": 3,
      "outputs": [
        {
          "output_type": "stream",
          "text": [
            "Escolha entre Medieval e Futurista: FUTURISTA\n",
            "Sabre de Luz!\n"
          ],
          "name": "stdout"
        }
      ]
    },
    {
      "cell_type": "markdown",
      "metadata": {
        "id": "zUGk1OiNHDik"
      },
      "source": [
        "## **PROJETO 02**\n",
        "\n",
        "* Escreva um programa que receba um ataque de espada ou sabre digitada pelo usuário;\n",
        "\n",
        "* Caso o ataque seja \"espada\", exiba no console \"VOCÊ AINDA NÃO MATOU O CHEFÃO\";\n",
        "\n",
        "* Caso contrário, se o ataque for \"sabre\", exiba no console \"VOCÊ DERROTOU O CHEFÃO COM O SABRE DE LUZ\";\n",
        "\n",
        "* Caso contrário, exiba no console \"ATAQUE NOVAMENTE\""
      ]
    },
    {
      "cell_type": "code",
      "metadata": {
        "id": "eNZokIIOHHkp"
      },
      "source": [
        "# Resposta:\n",
        "usuario = input('Escolha entre Espada ou Sabre: ').lower()\n",
        "\n",
        "if usuario == 'espada':\n",
        "  print('VOCÊ AINDA NÃO MATOU O CHEFÃO')\n",
        "elif usuaio == 'sabre':\n",
        "  print('VOCÊ AINDA NÃO MATOU O CHEFÃO')\n",
        "else:\n",
        "  print('ATAQUE NOVAMENTE')"
      ],
      "execution_count": null,
      "outputs": []
    },
    {
      "cell_type": "markdown",
      "metadata": {
        "id": "NRhLAMa6ZfqU"
      },
      "source": [
        "## **DESAFIO 01**\n",
        "\n",
        "**Reajuste salarial**\n",
        "\n",
        "As empresas @.com resolveram dar um aumento de salário aos seus colaboradores e lhe contrataram para desenvolver o programa que calculará os reajustes.\n",
        "\n",
        "Faça um programa que recebe o salário de um colaborador e o reajuste segundo o seguinte critério, baseado no salário atual:\n",
        "* salários até R$ 280,00 (incluindo) : aumento de 20%\n",
        "\n",
        "* salários entre R\\$ 280,00 e R$ 700,00 : aumento de 15%\n",
        "\n",
        "* salários entre R\\$ 700,00 e R$ 1500,00 : aumento de 10%\n",
        "\n",
        "* salários de R$ 1500,00 em diante : aumento de 5% \n",
        "\n",
        "Após o aumento ser realizado, informe na tela:\n",
        "* o salário antes do reajuste;\n",
        "\n",
        "* o percentual de aumento aplicado;\n",
        "\n",
        "* o valor do aumento;\n",
        "\n",
        "* o novo salário, após o aumento.\""
      ]
    },
    {
      "cell_type": "code",
      "metadata": {
        "id": "VpC5oZINZXzt"
      },
      "source": [
        "salario = float(input('Digite seu salário: '))\n",
        "\n",
        "if salario <= 280:\n",
        "  reajuste = (salario/100)*20\n",
        "  print(f\"\"\"Seu salário atual é de: R${salario:.2f}\\nO aumento será de 20%.\\nVocê irá receber um aumento de: R${reajuste:.2f}\\nE seu novo salário será de: R${salario + reajuste:.2f}\"\"\")\n",
        "elif salario >=280.1 and salario < 700:\n",
        "  reajuste = (salario/100)*15\n",
        "  print(f\"\"\"Seu salário atual é de: R${salario:.2f}\\nO aumento será de 15%.\\nVocê irá receber um aumento de: R${reajuste:.2f}\\nE seu novo salário será de: R${salario + reajuste:.2f}\"\"\")\n",
        "elif salario >=700.1 and salario <= 1500:\n",
        "  reajuste = (salario/100)*10\n",
        "  print(f\"\"\"Seu salário atual é de: R${salario:.2f}\\nO aumento será de 10%.\\nVocê irá receber um aumento de: R${reajuste:.2f}\\nE seu novo salário será de: R${salario + reajuste:.2f}\"\"\")\n",
        "else:\n",
        "  reajuste = (salario/100)*5\n",
        "  print(f\"\"\"Seu salário atual é de: R${salario:.2f}\\nO aumento será de 5%.\\nVocê irá receber um aumento de: R${reajuste:.2f}\\nE seu novo salário será de: R${salario + reajuste:.2f}\"\"\")"
      ],
      "execution_count": null,
      "outputs": []
    },
    {
      "cell_type": "markdown",
      "metadata": {
        "id": "HvThpbU4aBGy"
      },
      "source": [
        "## **DESAFIO 02**\n",
        "\n",
        "**Jogo da adivinhação**\n",
        "\n",
        "Escreva um programa que faça o computador “pensar” em um número inteiro entre 0 e 10 e peça para o usuário tentar descobrir qual foi o número escolhido pelo computador. O programa deverá escrever na tela se o usuário venceu ou perdeu."
      ]
    },
    {
      "cell_type": "code",
      "metadata": {
        "id": "TVeHZbyQZIzO",
        "colab": {
          "base_uri": "https://localhost:8080/"
        },
        "outputId": "4041bcfd-59e5-44ec-d16f-c5a5be139474"
      },
      "source": [
        "from random import randint\n",
        "print('O PC irá \"pensar\" em um número aleatório e você vai tentar adivinhar o número que ele pensou.')\n",
        "num = randint(0,10)\n",
        "usuario = int(input('Digite um número entre 0 e 10: '))\n",
        "if usuario == num:\n",
        "  print('Você venceu!')\n",
        "else:\n",
        "  print('Você perdeu.')"
      ],
      "execution_count": 13,
      "outputs": [
        {
          "output_type": "stream",
          "text": [
            "O PC irá \"pensar\" em um número aleatório e você vai tentar adivinhar o número que ele pensou.\n",
            "Digite um número entre 0 e 10: 5\n",
            "Você perdeu.\n"
          ],
          "name": "stdout"
        }
      ]
    },
    {
      "cell_type": "markdown",
      "metadata": {
        "id": "mjLFAUooaOH1"
      },
      "source": [
        "## **Desafio 03**\n",
        "\n",
        "**Caixa eletrônico**\n",
        "\n",
        "Faça um Programa para um caixa eletrônico. O programa deverá perguntar ao usuário a valor do saque e depois informar quantas notas de cada valor serão fornecidas. As notas disponíveis serão as de 1, 5, 10, 50 e 100 reais. O valor mínimo é de 10 reais e o máximo de 600 reais. O programa não deve se preocupar com a quantidade de notas existentes na máquina.\n",
        "\n",
        "* Exemplo 1: Para sacar a quantia de 256 reais, o programa fornece duas notas de 100, uma nota de 50, uma nota de 5 e uma nota de 1;\n",
        "\n",
        "* Exemplo 2: Para sacar a quantia de 399 reais, o programa fornece três notas de 100, uma nota de 50, quatro notas de 10, uma nota de 5 e quatro notas de 1.\n",
        "\n"
      ]
    },
    {
      "cell_type": "code",
      "metadata": {
        "id": "sH65bTx-ZMLh",
        "colab": {
          "base_uri": "https://localhost:8080/"
        },
        "outputId": "7df38ba9-c2c6-404c-d5a2-4b49cc09bd5d"
      },
      "source": [
        "valor = int(input('Digite um valor para sacar (mínimo de 10 e máximo de 600): '))\n",
        "\n",
        "cem = int(valor/100)\n",
        "valor = valor - (cem * 100)\n",
        "cinquenta = int(valor/50)\n",
        "valor = valor - (cinquenta * 50)\n",
        "dez = int(valor/10)\n",
        "valor = valor - (dez * 10)\n",
        "cinco = int(valor/5)\n",
        "valor = valor - (cinco * 5)\n",
        "um = valor\n",
        "\n",
        "print('Notas R$100,00 = ',cem)\n",
        "print('Notas R$ 50,00 = ',cinquenta)\n",
        "print('Notas R$ 10,00 = ',dez)\n",
        "print('Notas R$  5,00 = ',cinco)\n",
        "print('Notas R$  1,00 = ',um)"
      ],
      "execution_count": 15,
      "outputs": [
        {
          "output_type": "stream",
          "text": [
            "Digite um valor para sacar (mínimo de 10 e máximo de 600): 556\n",
            "Notas R$100,00 =  5\n",
            "Notas R$ 50,00 =  1\n",
            "Notas R$ 10,00 =  0\n",
            "Notas R$  5,00 =  1\n",
            "Notas R$  1,00 =  1\n"
          ],
          "name": "stdout"
        }
      ]
    }
  ]
}