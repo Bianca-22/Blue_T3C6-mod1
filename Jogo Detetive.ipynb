{
  "nbformat": 4,
  "nbformat_minor": 0,
  "metadata": {
    "colab": {
      "name": "Untitled5.ipynb",
      "provenance": [],
      "collapsed_sections": [],
      "authorship_tag": "ABX9TyN3ra+t69PJoLZNEJlsyN+W",
      "include_colab_link": true
    },
    "kernelspec": {
      "name": "python3",
      "display_name": "Python 3"
    },
    "language_info": {
      "name": "python"
    }
  },
  "cells": [
    {
      "cell_type": "markdown",
      "metadata": {
        "id": "view-in-github",
        "colab_type": "text"
      },
      "source": [
        "<a href=\"https://colab.research.google.com/github/Bianca-22/Blue_T3C6-mod1/blob/main/Jogo%20Detetive.ipynb\" target=\"_parent\"><img src=\"https://colab.research.google.com/assets/colab-badge.svg\" alt=\"Open In Colab\"/></a>"
      ]
    },
    {
      "cell_type": "code",
      "metadata": {
        "id": "exRk6uPGbEQk"
      },
      "source": [
        "print('-='*17)\n",
        "print('******** JOGO DO DETETIVE ********')\n",
        "print('-='*17)\n",
        "print()\n",
        "\n",
        "n1 = input('Você telefonou para a vítima?[S/N] ').lower().replace('s','1').replace('n','0')[0]\n",
        "n2 = input('Você esteve no local do crime?[S/N] ').lower().replace('s','1').replace('n','0')[0]\n",
        "n3 = input('Você mora perto da vítima?[S/N] ').lower().replace('s','1').replace('n','0')[0]\n",
        "n4 = input('Você devia para a vítima?[S/N] ').lower().replace('s','1').replace('n','0')[0]\n",
        "n5 = input('Você trabalhou com a vítima?[S/N] ').lower().replace('s','1').replace('n','0')[0]\n",
        "print()\n",
        "resultado = int(n1)+int(n2)+int(n3)+int(n4)+int(n5)\n",
        "\n",
        "if resultado == 2:\n",
        "  print('Você é suspeito.')\n",
        "elif resultado == 3 or resultado == 4:\n",
        "  print('Você é Cúmplice.')\n",
        "elif resultado == 5:\n",
        "  print('Você é o assassino.')\n",
        "elif resultado < 2:\n",
        "  print('Você é inocente.')\n",
        "else:\n",
        "  print('Resposta inválida')\n",
        "print()"
      ],
      "execution_count": null,
      "outputs": []
    }
  ]
}